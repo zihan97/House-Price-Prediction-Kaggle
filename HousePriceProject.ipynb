{
 "cells": [
  {
   "cell_type": "code",
   "execution_count": 31,
   "metadata": {},
   "outputs": [],
   "source": [
    "import numpy as np\n",
    "import pandas as pd\n",
    "import os\n",
    "from scipy.stats import skew\n",
    "import warnings\n",
    "warnings.filterwarnings('ignore')\n",
    "from sklearn.linear_model import LassoCV, RidgeCV\n",
    "from sklearn.kernel_ridge import KernelRidge\n",
    "from sklearn.model_selection import KFold, cross_val_score\n",
    "from sklearn.ensemble import GradientBoostingRegressor\n",
    "import matplotlib\n",
    "\n",
    "#setting the directory on my computer\n",
    "os.chdir('/Users/zihan/Desktop/spider_wd')\n",
    "#load the data \n",
    "train = pd.read_csv('HousePrice.csv' )"
   ]
  },
  {
   "cell_type": "code",
   "execution_count": 32,
   "metadata": {},
   "outputs": [],
   "source": [
    "#drop the id column as it is useless for prediction \n",
    "train.drop(['Id'], axis=1, inplace=True)\n",
    "\n",
    "#drop the outlier with a very large GrLivArea but a very low rice\n",
    "train = train.drop(train[(train['GrLivArea']>4000) & (train['SalePrice']<300000)].index)\n",
    "train.reset_index(drop=True, inplace=True)\n"
   ]
  },
  {
   "cell_type": "code",
   "execution_count": 33,
   "metadata": {},
   "outputs": [],
   "source": [
    "#log transform the target variable 'SalePrice'\n",
    "train[\"SalePrice\"] = np.log1p(train[\"SalePrice\"])\n",
    "\n",
    "X = train.drop(['SalePrice'], axis=1)\n",
    "y = train['SalePrice'].reset_index(drop=True)\n"
   ]
  },
  {
   "cell_type": "code",
   "execution_count": 5,
   "metadata": {},
   "outputs": [],
   "source": [
    "# filling missing values of categorical features with 'None' meaning 'don't have'\n",
    "X[\"PoolQC\"] = X[\"PoolQC\"].fillna(\"None\")\n",
    "X[\"MiscFeature\"] = X[\"MiscFeature\"].fillna(\"None\")\n",
    "X[\"Alley\"] = X[\"Alley\"].fillna(\"None\")\n",
    "X[\"Fence\"] = X[\"Fence\"].fillna(\"None\")\n",
    "X[\"FireplaceQu\"] = X[\"FireplaceQu\"].fillna(\"None\")\n",
    "for col in ('GarageType', 'GarageFinish', 'GarageQual', 'GarageCond',\n",
    "            'BsmtQual', 'BsmtCond', 'BsmtExposure', 'BsmtFinType1', 'BsmtFinType2'):\n",
    "    X[col] = X[col].fillna('None')\n",
    "X[\"MasVnrType\"] = X[\"MasVnrType\"].fillna(\"None\")\n",
    "X['MSSubClass'] = X['MSSubClass'].fillna(\"None\")\n"
   ]
  },
  {
   "cell_type": "code",
   "execution_count": 6,
   "metadata": {},
   "outputs": [],
   "source": [
    "# filling missing values of features with median of groups\n",
    "X[\"LotFrontage\"] = X.groupby(\"Neighborhood\")[\"LotFrontage\"].transform(lambda x: x.fillna(x.median()))\n",
    "\n",
    "\n",
    "#filling missing values of numeric features with 0\n",
    "for col in ('GarageYrBlt', 'GarageArea', 'GarageCars', 'BsmtFinSF1', 'BsmtFinSF2', \n",
    "            'BsmtUnfSF','TotalBsmtSF', 'BsmtFullBath', 'BsmtHalfBath', 'MasVnrArea'):\n",
    "    X[col] = X[col].fillna(0)\n"
   ]
  },
  {
   "cell_type": "code",
   "execution_count": 7,
   "metadata": {},
   "outputs": [],
   "source": [
    "#filling missing values of features with mode\n",
    "X['MSZoning'] = X['MSZoning'].fillna(X['MSZoning'].mode()[0])\n",
    "X['Electrical'] = X['Electrical'].fillna(X['Electrical'].mode()[0])\n",
    "X['KitchenQual'] = X['KitchenQual'].fillna(X['KitchenQual'].mode()[0])\n",
    "X['Exterior1st'] = X['Exterior1st'].fillna(X['Exterior1st'].mode()[0])\n",
    "X['Exterior2nd'] = X['Exterior2nd'].fillna(X['Exterior2nd'].mode()[0])\n",
    "X['SaleType'] = X['SaleType'].fillna(X['SaleType'].mode()[0])\n",
    "\n",
    "X[\"Functional\"] = X[\"Functional\"].fillna(\"Typ\")"
   ]
  },
  {
   "cell_type": "code",
   "execution_count": 8,
   "metadata": {},
   "outputs": [],
   "source": [
    "#drop useless feature 'Utilities' as it is same for all samples\n",
    "X = X.drop(['Utilities'], axis=1)\n"
   ]
  },
  {
   "cell_type": "code",
   "execution_count": 9,
   "metadata": {},
   "outputs": [
    {
     "name": "stdout",
     "output_type": "stream",
     "text": [
      "               Missing Ratio\n",
      "MSSubClass               0.0\n",
      "MSZoning                 0.0\n",
      "LotFrontage              0.0\n",
      "LotArea                  0.0\n",
      "Street                   0.0\n",
      "Alley                    0.0\n",
      "LotShape                 0.0\n",
      "LandContour              0.0\n",
      "LotConfig                0.0\n",
      "LandSlope                0.0\n",
      "Neighborhood             0.0\n",
      "Condition1               0.0\n",
      "Condition2               0.0\n",
      "BldgType                 0.0\n",
      "HouseStyle               0.0\n",
      "OverallQual              0.0\n",
      "OverallCond              0.0\n",
      "YearBuilt                0.0\n",
      "YearRemodAdd             0.0\n",
      "RoofStyle                0.0\n",
      "RoofMatl                 0.0\n",
      "Exterior1st              0.0\n",
      "Exterior2nd              0.0\n",
      "MasVnrType               0.0\n",
      "MasVnrArea               0.0\n",
      "ExterQual                0.0\n",
      "ExterCond                0.0\n",
      "Foundation               0.0\n",
      "BsmtQual                 0.0\n",
      "BsmtCond                 0.0\n",
      "...                      ...\n",
      "HalfBath                 0.0\n",
      "BedroomAbvGr             0.0\n",
      "KitchenAbvGr             0.0\n",
      "KitchenQual              0.0\n",
      "TotRmsAbvGrd             0.0\n",
      "Functional               0.0\n",
      "Fireplaces               0.0\n",
      "FireplaceQu              0.0\n",
      "GarageType               0.0\n",
      "GarageYrBlt              0.0\n",
      "GarageFinish             0.0\n",
      "GarageCars               0.0\n",
      "GarageArea               0.0\n",
      "GarageQual               0.0\n",
      "GarageCond               0.0\n",
      "PavedDrive               0.0\n",
      "WoodDeckSF               0.0\n",
      "OpenPorchSF              0.0\n",
      "EnclosedPorch            0.0\n",
      "3SsnPorch                0.0\n",
      "ScreenPorch              0.0\n",
      "PoolArea                 0.0\n",
      "PoolQC                   0.0\n",
      "Fence                    0.0\n",
      "MiscFeature              0.0\n",
      "MiscVal                  0.0\n",
      "MoSold                   0.0\n",
      "YrSold                   0.0\n",
      "SaleType                 0.0\n",
      "SaleCondition            0.0\n",
      "\n",
      "[78 rows x 1 columns]\n"
     ]
    }
   ],
   "source": [
    "#check the missing values \n",
    "missing_data = pd.DataFrame({'Missing Ratio' :((X.isnull().sum() / len(X)) * 100)})\n",
    "print(missing_data)"
   ]
  },
  {
   "cell_type": "code",
   "execution_count": 10,
   "metadata": {},
   "outputs": [],
   "source": [
    "# transfer numeric variables which are categorical \n",
    "X['MSSubClass'] = X['MSSubClass'].apply(str)\n",
    "X['OverallCond'] = X['OverallCond'].astype(str)\n",
    "X['YrSold'] = X['YrSold'].astype(str)\n",
    "X['MoSold'] = X['MoSold'].astype(str)"
   ]
  },
  {
   "cell_type": "code",
   "execution_count": 11,
   "metadata": {},
   "outputs": [],
   "source": [
    "# boxcox transformation of skewed features\n",
    "numeric_f = X.dtypes[X.dtypes != \"object\"].index\n",
    "skewed_f = X[numeric_f].apply(lambda x: skew(x.dropna())).sort_values(ascending=False)\n",
    "skewed_f = skewed_f[abs(skewed_f) > 0.5]\n",
    "from scipy.special import boxcox1p\n",
    "skewed_features = skewed_f.index\n",
    "lam = 0.15\n",
    "count = 0\n",
    "for f in skewed_features:\n",
    "    X[f] = boxcox1p(X[f], lam)\n",
    "    count += 1"
   ]
  },
  {
   "cell_type": "code",
   "execution_count": 12,
   "metadata": {},
   "outputs": [
    {
     "data": {
      "text/html": [
       "<div>\n",
       "<style scoped>\n",
       "    .dataframe tbody tr th:only-of-type {\n",
       "        vertical-align: middle;\n",
       "    }\n",
       "\n",
       "    .dataframe tbody tr th {\n",
       "        vertical-align: top;\n",
       "    }\n",
       "\n",
       "    .dataframe thead th {\n",
       "        text-align: right;\n",
       "    }\n",
       "</style>\n",
       "<table border=\"1\" class=\"dataframe\">\n",
       "  <thead>\n",
       "    <tr style=\"text-align: right;\">\n",
       "      <th></th>\n",
       "      <th>LotFrontage</th>\n",
       "      <th>LotArea</th>\n",
       "      <th>OverallQual</th>\n",
       "      <th>YearBuilt</th>\n",
       "      <th>YearRemodAdd</th>\n",
       "      <th>MasVnrArea</th>\n",
       "      <th>BsmtFinSF1</th>\n",
       "      <th>BsmtFinSF2</th>\n",
       "      <th>BsmtUnfSF</th>\n",
       "      <th>TotalBsmtSF</th>\n",
       "      <th>...</th>\n",
       "      <th>SaleType_ConLw</th>\n",
       "      <th>SaleType_New</th>\n",
       "      <th>SaleType_Oth</th>\n",
       "      <th>SaleType_WD</th>\n",
       "      <th>SaleCondition_Abnorml</th>\n",
       "      <th>SaleCondition_AdjLand</th>\n",
       "      <th>SaleCondition_Alloca</th>\n",
       "      <th>SaleCondition_Family</th>\n",
       "      <th>SaleCondition_Normal</th>\n",
       "      <th>SaleCondition_Partial</th>\n",
       "    </tr>\n",
       "  </thead>\n",
       "  <tbody>\n",
       "    <tr>\n",
       "      <th>0</th>\n",
       "      <td>5.831328</td>\n",
       "      <td>19.212182</td>\n",
       "      <td>7</td>\n",
       "      <td>14.187527</td>\n",
       "      <td>14.187527</td>\n",
       "      <td>8.059126</td>\n",
       "      <td>11.170327</td>\n",
       "      <td>0.0</td>\n",
       "      <td>7.483296</td>\n",
       "      <td>11.692623</td>\n",
       "      <td>...</td>\n",
       "      <td>0</td>\n",
       "      <td>0</td>\n",
       "      <td>0</td>\n",
       "      <td>1</td>\n",
       "      <td>0</td>\n",
       "      <td>0</td>\n",
       "      <td>0</td>\n",
       "      <td>0</td>\n",
       "      <td>1</td>\n",
       "      <td>0</td>\n",
       "    </tr>\n",
       "    <tr>\n",
       "      <th>1</th>\n",
       "      <td>6.221214</td>\n",
       "      <td>19.712205</td>\n",
       "      <td>6</td>\n",
       "      <td>14.145138</td>\n",
       "      <td>14.145138</td>\n",
       "      <td>0.000000</td>\n",
       "      <td>12.062832</td>\n",
       "      <td>0.0</td>\n",
       "      <td>8.897844</td>\n",
       "      <td>12.792276</td>\n",
       "      <td>...</td>\n",
       "      <td>0</td>\n",
       "      <td>0</td>\n",
       "      <td>0</td>\n",
       "      <td>1</td>\n",
       "      <td>0</td>\n",
       "      <td>0</td>\n",
       "      <td>0</td>\n",
       "      <td>0</td>\n",
       "      <td>1</td>\n",
       "      <td>0</td>\n",
       "    </tr>\n",
       "    <tr>\n",
       "      <th>2</th>\n",
       "      <td>5.914940</td>\n",
       "      <td>20.347241</td>\n",
       "      <td>7</td>\n",
       "      <td>14.184404</td>\n",
       "      <td>14.185966</td>\n",
       "      <td>7.646538</td>\n",
       "      <td>10.200343</td>\n",
       "      <td>0.0</td>\n",
       "      <td>9.917060</td>\n",
       "      <td>11.892039</td>\n",
       "      <td>...</td>\n",
       "      <td>0</td>\n",
       "      <td>0</td>\n",
       "      <td>0</td>\n",
       "      <td>1</td>\n",
       "      <td>0</td>\n",
       "      <td>0</td>\n",
       "      <td>0</td>\n",
       "      <td>0</td>\n",
       "      <td>1</td>\n",
       "      <td>0</td>\n",
       "    </tr>\n",
       "    <tr>\n",
       "      <th>3</th>\n",
       "      <td>5.684507</td>\n",
       "      <td>19.691553</td>\n",
       "      <td>7</td>\n",
       "      <td>14.047529</td>\n",
       "      <td>14.135652</td>\n",
       "      <td>0.000000</td>\n",
       "      <td>8.274266</td>\n",
       "      <td>0.0</td>\n",
       "      <td>10.468500</td>\n",
       "      <td>11.354094</td>\n",
       "      <td>...</td>\n",
       "      <td>0</td>\n",
       "      <td>0</td>\n",
       "      <td>0</td>\n",
       "      <td>1</td>\n",
       "      <td>1</td>\n",
       "      <td>0</td>\n",
       "      <td>0</td>\n",
       "      <td>0</td>\n",
       "      <td>0</td>\n",
       "      <td>0</td>\n",
       "    </tr>\n",
       "    <tr>\n",
       "      <th>4</th>\n",
       "      <td>6.314735</td>\n",
       "      <td>21.325160</td>\n",
       "      <td>8</td>\n",
       "      <td>14.182841</td>\n",
       "      <td>14.182841</td>\n",
       "      <td>9.391827</td>\n",
       "      <td>10.971129</td>\n",
       "      <td>0.0</td>\n",
       "      <td>10.221051</td>\n",
       "      <td>12.510588</td>\n",
       "      <td>...</td>\n",
       "      <td>0</td>\n",
       "      <td>0</td>\n",
       "      <td>0</td>\n",
       "      <td>1</td>\n",
       "      <td>0</td>\n",
       "      <td>0</td>\n",
       "      <td>0</td>\n",
       "      <td>0</td>\n",
       "      <td>1</td>\n",
       "      <td>0</td>\n",
       "    </tr>\n",
       "  </tbody>\n",
       "</table>\n",
       "<p>5 rows × 336 columns</p>\n",
       "</div>"
      ],
      "text/plain": [
       "   LotFrontage    LotArea  OverallQual  YearBuilt  YearRemodAdd  MasVnrArea  \\\n",
       "0     5.831328  19.212182            7  14.187527     14.187527    8.059126   \n",
       "1     6.221214  19.712205            6  14.145138     14.145138    0.000000   \n",
       "2     5.914940  20.347241            7  14.184404     14.185966    7.646538   \n",
       "3     5.684507  19.691553            7  14.047529     14.135652    0.000000   \n",
       "4     6.314735  21.325160            8  14.182841     14.182841    9.391827   \n",
       "\n",
       "   BsmtFinSF1  BsmtFinSF2  BsmtUnfSF  TotalBsmtSF  ...  SaleType_ConLw  \\\n",
       "0   11.170327         0.0   7.483296    11.692623  ...               0   \n",
       "1   12.062832         0.0   8.897844    12.792276  ...               0   \n",
       "2   10.200343         0.0   9.917060    11.892039  ...               0   \n",
       "3    8.274266         0.0  10.468500    11.354094  ...               0   \n",
       "4   10.971129         0.0  10.221051    12.510588  ...               0   \n",
       "\n",
       "   SaleType_New  SaleType_Oth  SaleType_WD  SaleCondition_Abnorml  \\\n",
       "0             0             0            1                      0   \n",
       "1             0             0            1                      0   \n",
       "2             0             0            1                      0   \n",
       "3             0             0            1                      1   \n",
       "4             0             0            1                      0   \n",
       "\n",
       "   SaleCondition_AdjLand  SaleCondition_Alloca  SaleCondition_Family  \\\n",
       "0                      0                     0                     0   \n",
       "1                      0                     0                     0   \n",
       "2                      0                     0                     0   \n",
       "3                      0                     0                     0   \n",
       "4                      0                     0                     0   \n",
       "\n",
       "   SaleCondition_Normal  SaleCondition_Partial  \n",
       "0                     1                      0  \n",
       "1                     1                      0  \n",
       "2                     1                      0  \n",
       "3                     0                      0  \n",
       "4                     1                      0  \n",
       "\n",
       "[5 rows x 336 columns]"
      ]
     },
     "execution_count": 12,
     "metadata": {},
     "output_type": "execute_result"
    }
   ],
   "source": [
    "#get the dummy categorical features\n",
    "X_dummy = pd.get_dummies(X).reset_index(drop=True)\n",
    "X_dummy.head()"
   ]
  },
  {
   "cell_type": "code",
   "execution_count": 17,
   "metadata": {},
   "outputs": [],
   "source": [
    "# Using random forest to get feature importance\n",
    "from sklearn.ensemble import RandomForestRegressor\n",
    "forest = RandomForestRegressor(random_state=7)\n",
    "forest.fit(X_dummy, y) \n",
    "importances = pd.Series(forest.feature_importances_, index = X_dummy.columns)"
   ]
  },
  {
   "cell_type": "code",
   "execution_count": 15,
   "metadata": {},
   "outputs": [
    {
     "data": {
      "text/plain": [
       "<matplotlib.axes._subplots.AxesSubplot at 0x1a1b2bfac8>"
      ]
     },
     "execution_count": 15,
     "metadata": {},
     "output_type": "execute_result"
    }
   ],
   "source": [
    "#plot the importance of features for top 10 and last 10\n",
    "matplotlib.rcParams['figure.figsize'] = (6.0, 6.0)\n",
    "imp = pd.concat([importances.sort_values().head(10), importances.sort_values().tail(10)])\n",
    "imp.plot(kind = \"barh\")\n"
   ]
  },
  {
   "cell_type": "code",
   "execution_count": 30,
   "metadata": {},
   "outputs": [
    {
     "ename": "AttributeError",
     "evalue": "'Series' object has no attribute 'columns'",
     "output_type": "error",
     "traceback": [
      "\u001b[0;31m---------------------------------------------------------------------------\u001b[0m",
      "\u001b[0;31mAttributeError\u001b[0m                            Traceback (most recent call last)",
      "\u001b[0;32m<ipython-input-30-126215b15c72>\u001b[0m in \u001b[0;36m<module>\u001b[0;34m\u001b[0m\n\u001b[0;32m----> 1\u001b[0;31m \u001b[0;34m(\u001b[0m\u001b[0mimportances\u001b[0m\u001b[0;34m.\u001b[0m\u001b[0msort_values\u001b[0m\u001b[0;34m(\u001b[0m\u001b[0;34m)\u001b[0m\u001b[0;34m.\u001b[0m\u001b[0mtail\u001b[0m\u001b[0;34m(\u001b[0m\u001b[0;36m20\u001b[0m\u001b[0;34m)\u001b[0m\u001b[0;34m)\u001b[0m\u001b[0;34m.\u001b[0m\u001b[0mcolumns\u001b[0m\u001b[0;34m\u001b[0m\u001b[0;34m\u001b[0m\u001b[0m\n\u001b[0m",
      "\u001b[0;32m//anaconda3/lib/python3.7/site-packages/pandas/core/generic.py\u001b[0m in \u001b[0;36m__getattr__\u001b[0;34m(self, name)\u001b[0m\n\u001b[1;32m   5061\u001b[0m         if (name in self._internal_names_set or name in self._metadata or\n\u001b[1;32m   5062\u001b[0m                 name in self._accessors):\n\u001b[0;32m-> 5063\u001b[0;31m             \u001b[0;32mreturn\u001b[0m \u001b[0mobject\u001b[0m\u001b[0;34m.\u001b[0m\u001b[0m__getattribute__\u001b[0m\u001b[0;34m(\u001b[0m\u001b[0mself\u001b[0m\u001b[0;34m,\u001b[0m \u001b[0mname\u001b[0m\u001b[0;34m)\u001b[0m\u001b[0;34m\u001b[0m\u001b[0;34m\u001b[0m\u001b[0m\n\u001b[0m\u001b[1;32m   5064\u001b[0m         \u001b[0;32melse\u001b[0m\u001b[0;34m:\u001b[0m\u001b[0;34m\u001b[0m\u001b[0;34m\u001b[0m\u001b[0m\n\u001b[1;32m   5065\u001b[0m             \u001b[0;32mif\u001b[0m \u001b[0mself\u001b[0m\u001b[0;34m.\u001b[0m\u001b[0m_info_axis\u001b[0m\u001b[0;34m.\u001b[0m\u001b[0m_can_hold_identifiers_and_holds_name\u001b[0m\u001b[0;34m(\u001b[0m\u001b[0mname\u001b[0m\u001b[0;34m)\u001b[0m\u001b[0;34m:\u001b[0m\u001b[0;34m\u001b[0m\u001b[0;34m\u001b[0m\u001b[0m\n",
      "\u001b[0;31mAttributeError\u001b[0m: 'Series' object has no attribute 'columns'"
     ]
    }
   ],
   "source": []
  },
  {
   "cell_type": "code",
   "execution_count": null,
   "metadata": {},
   "outputs": [],
   "source": []
  },
  {
   "cell_type": "code",
   "execution_count": 16,
   "metadata": {},
   "outputs": [
    {
     "name": "stdout",
     "output_type": "stream",
     "text": [
      "RF picked 296 variables and assign importances of the other 40 variables to zero\n"
     ]
    }
   ],
   "source": [
    "# find the number of features whose importance is 0\n",
    "print(\"RF picked \" + str(sum(importances != 0)) + \" variables and assign importances of the other \" +  str(sum(importances == 0)) + \" variables to zero\")\n"
   ]
  },
  {
   "cell_type": "code",
   "execution_count": 24,
   "metadata": {},
   "outputs": [
    {
     "name": "stdout",
     "output_type": "stream",
     "text": [
      "Index(['LotFrontage', 'LotArea', 'OverallQual', 'YearBuilt', 'YearRemodAdd',\n",
      "       'BsmtFinSF1', 'BsmtUnfSF', 'TotalBsmtSF', '1stFlrSF', '2ndFlrSF',\n",
      "       'GrLivArea', 'FullBath', 'TotRmsAbvGrd', 'GarageYrBlt', 'GarageCars',\n",
      "       'GarageArea', 'MSZoning_RM', 'CentralAir_Y'],\n",
      "      dtype='object')\n"
     ]
    }
   ],
   "source": [
    "# feature selection\n",
    "from sklearn.feature_selection import SelectFromModel\n",
    "model = SelectFromModel(forest, prefit=True, max_features=30)\n",
    "feature_idx = model.get_support()\n",
    "feature_names = X_dummy.columns[feature_idx]\n",
    "X_new = model.transform(X_dummy)\n",
    "pd.DataFrame(X_new, columns= feature_names)\n",
    "print (feature_names)\n"
   ]
  },
  {
   "cell_type": "code",
   "execution_count": 25,
   "metadata": {},
   "outputs": [],
   "source": [
    "#Validation function\n",
    "kfolds = KFold(n_splits=10, shuffle=True, random_state=7)\n",
    "\n",
    "# model trained by all features\n",
    "def cv_rmse(model):\n",
    "    rmse = np.sqrt(-cross_val_score(model, X_dummy, y, scoring=\"neg_mean_squared_error\", cv=kfolds))\n",
    "    return (rmse)\n",
    "\n",
    "# model trained by seleted features\n",
    "def cv_rmse2(model):\n",
    "    rmse2 = np.sqrt(-cross_val_score(model, X_new, y, scoring=\"neg_mean_squared_error\", cv=kfolds))\n",
    "    return (rmse2)"
   ]
  },
  {
   "cell_type": "code",
   "execution_count": 26,
   "metadata": {},
   "outputs": [
    {
     "name": "stdout",
     "output_type": "stream",
     "text": [
      "LASSO: 0.1111 (0.0144)\n",
      "\n",
      "LASSO with selected features: 0.1367 (0.0128)\n",
      "\n"
     ]
    }
   ],
   "source": [
    "# Lasso regression model\n",
    "alphas_lasso = [0.00005, 0.0001, 0.0005, 0.001, 0.005, 0.01]\n",
    "lasso = LassoCV(max_iter=1e6, alphas=alphas_lasso, random_state=7, cv=kfolds)\n",
    "# calculate the score of lasso\n",
    "score1 = cv_rmse(lasso)\n",
    "score2 = cv_rmse2(lasso)\n",
    "print(\"LASSO: {:.4f} ({:.4f})\\n\".format(score1.mean(), score1.std()), )\n",
    "print(\"LASSO with selected features: {:.4f} ({:.4f})\\n\".format(score2.mean(), score2.std()), )\n"
   ]
  },
  {
   "cell_type": "code",
   "execution_count": 20,
   "metadata": {},
   "outputs": [
    {
     "name": "stdout",
     "output_type": "stream",
     "text": [
      "Ridge: 0.1124 (0.0141)\n",
      "\n",
      "Ridge with selected features : 0.1367 (0.0129)\n",
      "\n"
     ]
    }
   ],
   "source": [
    "# ridge regression model\n",
    "alphas_ridge = [0.1, 0.5, 1, 5, 10, 15]\n",
    "ridge = RidgeCV(alphas=alphas_ridge, cv=kfolds)\n",
    "score1 = cv_rmse(ridge)\n",
    "score2 = cv_rmse2(ridge)\n",
    "print(\"Ridge: {:.4f} ({:.4f})\\n\".format(score1.mean(), score1.std()), )\n",
    "print(\"Ridge with selected features : {:.4f} ({:.4f})\\n\".format(score2.mean(), score2.std()), )"
   ]
  },
  {
   "cell_type": "code",
   "execution_count": 21,
   "metadata": {},
   "outputs": [
    {
     "name": "stdout",
     "output_type": "stream",
     "text": [
      "Kernel Ridge score: 0.1223 (0.0105)\n",
      "\n",
      "Kernel Ridge score with selected features: 0.1356 (0.0117)\n",
      "\n"
     ]
    }
   ],
   "source": [
    "#kernel ridge regression model\n",
    "alphas_kernel = [1, 5, 10, 15, 20, 25, 30]\n",
    "kernel = KernelRidge(alpha= alphas_kernel, kernel='polynomial', degree= 2, coef0=25)\n",
    "score1 = cv_rmse(kernel)\n",
    "score2 = cv_rmse2(kernel)\n",
    "print(\"Kernel Ridge score: {:.4f} ({:.4f})\\n\".format(score1.mean(), score1.std()))\n",
    "print(\"Kernel Ridge score with selected features: {:.4f} ({:.4f})\\n\".format(score2.mean(), score2.std()))"
   ]
  },
  {
   "cell_type": "code",
   "execution_count": 22,
   "metadata": {},
   "outputs": [
    {
     "data": {
      "text/plain": [
       "<matplotlib.axes._subplots.AxesSubplot at 0x1a1ce8a2e8>"
      ]
     },
     "execution_count": 22,
     "metadata": {},
     "output_type": "execute_result"
    },
    {
     "data": {
      "image/png": "[encoded data removed]",
      "text/plain": [
       "<Figure size 432x432 with 1 Axes>"
      ]
     },
     "metadata": {
      "needs_background": "light"
     },
     "output_type": "display_data"
    }
   ],
   "source": [
    "#comparing the predictions of ridge model and kernel ridge model fitted by selected features \n",
    "ridge_fit = RidgeCV(alphas = alphas_ridge).fit(X_new, y)\n",
    "kernel_fit = KernelRidge(alpha= alphas_kernel, kernel='polynomial', degree= 2, coef0=25).fit(X_new, y) \n",
    "ridge_pred = np.expm1(ridge_fit.predict(X_new))\n",
    "kernel_pred = np.expm1(kernel_fit.predict(X_new))\n",
    "predictions = pd.DataFrame({\"ridge\":ridge_pred, \"kernel\":kernel_pred})\n",
    "matplotlib.rcParams['figure.figsize'] = (6.0, 6.0)\n",
    "predictions.plot(x = \"ridge\", y = \"kernel\", kind = \"scatter\")"
   ]
  },
  {
   "cell_type": "code",
   "execution_count": 23,
   "metadata": {},
   "outputs": [
    {
     "name": "stdout",
     "output_type": "stream",
     "text": [
      "Gradient Boosting score: 0.1141 (0.0116)\n",
      "\n",
      "Gradient Boosting score with selected features: 0.1396 (0.0127)\n",
      "\n"
     ]
    }
   ],
   "source": [
    "# Gradient boosting regression model\n",
    "from sklearn.ensemble import GradientBoostingRegressor\n",
    "GBoost = GradientBoostingRegressor(n_estimators=5000, learning_rate=0.02,\n",
    "                                   max_depth=4, max_features='sqrt',\n",
    "                                   min_samples_leaf=15, min_samples_split=10, \n",
    "                                   loss='huber', random_state =7)\n",
    "score1 = cv_rmse(GBoost)\n",
    "score2 = cv_rmse2(GBoost)\n",
    "print(\"Gradient Boosting score: {:.4f} ({:.4f})\\n\".format(score1.mean(), score1.std()))\n",
    "print(\"Gradient Boosting score with selected features: {:.4f} ({:.4f})\\n\".format(score2.mean(), score2.std()))\n"
   ]
  },
  {
   "cell_type": "code",
   "execution_count": null,
   "metadata": {},
   "outputs": [],
   "source": []
  }
 ],
 "metadata": {
  "kernelspec": {
   "display_name": "Python 3",
   "language": "python",
   "name": "python3"
  },
  "language_info": {
   "codemirror_mode": {
    "name": "ipython",
    "version": 3
   },
   "file_extension": ".py",
   "mimetype": "text/x-python",
   "name": "python",
   "nbconvert_exporter": "python",
   "pygments_lexer": "ipython3",
   "version": "3.7.3"
  }
 },
 "nbformat": 4,
 "nbformat_minor": 2
}
